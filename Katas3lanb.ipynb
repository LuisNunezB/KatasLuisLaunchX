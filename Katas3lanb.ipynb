{
 "cells": [
  {
   "cell_type": "code",
   "execution_count": null,
   "metadata": {},
   "outputs": [],
   "source": []
  },
  {
   "cell_type": "markdown",
   "metadata": {},
   "source": [
    "WARNING ASTEROIDE!!"
   ]
  },
  {
   "cell_type": "code",
   "execution_count": 1,
   "metadata": {},
   "outputs": [
    {
     "name": "stdout",
     "output_type": "stream",
     "text": [
      "Asteroide se acerca a la Tierra!!!\n"
     ]
    }
   ],
   "source": [
    "# Añadir el código necesario para crear una variable que guarde la velocidad del asteroide.\n",
    "# Escribe una expresión de prueba para calcular si necesita una advertencia.\n",
    "# Agregue las instrucciones que se ejecutarán si la expresión de prueba es true o false.\n",
    "\n",
    "velAsteroide = 49\n",
    "topeVelocidad = 25\n",
    "\n",
    "if velAsteroide > topeVelocidad:\n",
    "    print(\"Asteroide se acerca a la Tierra!!!\")\n",
    "else:\n",
    "    print(\"Sin peligro en la Tierra\")"
   ]
  },
  {
   "cell_type": "code",
   "execution_count": null,
   "metadata": {},
   "outputs": [],
   "source": []
  },
  {
   "cell_type": "code",
   "execution_count": null,
   "metadata": {},
   "outputs": [],
   "source": [
    "\n",
    "\n",
    "# Agrega el código para crear una variable para un asteroide que viaja a 19 km/s\n",
    "# Escribe varias expresiones de prueba para determinar si puedes ver el rayo de luz desde la tierra\n",
    "# Agrega las instrucciones que se ejecutarán si las expresiones de prueba son True o False\n",
    "\n",
    "velAsteroide = 19\n",
    "\n",
    "if velAsteroide > 20:\n",
    "    print(\"hay una luz magica en el cielo!\")\n",
    "elif velAsteroide = 20:\n",
    "    print(\"Hay una luz magica en el cielo!\")    \n",
    "else:\n",
    "    print(\"Sin nada que mostrar\")\n",
    "    "
   ]
  },
  {
   "cell_type": "code",
   "execution_count": 2,
   "metadata": {},
   "outputs": [
    {
     "name": "stdout",
     "output_type": "stream",
     "text": [
      "Hay una luz magica en el cielo\n"
     ]
    }
   ],
   "source": [
    "\n",
    "\n",
    "# Agrega el código para crear nuevas variables para la velocidad y el tamaño del asteroide\n",
    "# Para probar el código, prueba con varias velocidades y tamaños\n",
    "# Escribe varias expresiones de prueba o combinaciones de expresiones de prueba para determinar qué mensaje se debe enviar a Tierra.\n",
    "\n",
    "velAsteroide = 24\n",
    "tamAsteroide = 50\n",
    "\n",
    "if velAsteroide > 25 and tamAsteroide > 25:\n",
    "    print('Un asteroide muy peligroso viene hacia la Tierra')\n",
    "elif velAsteroide >= 20:\n",
    "    print('Hay una luz magica en el cielo')\n",
    "elif tamAsteroide < 25:\n",
    "    print('No pasa nada aqui') \n",
    "else:\n",
    "    print('No pasa nada aqui')   \n"
   ]
  }
 ],
 "metadata": {
  "interpreter": {
   "hash": "7b8b0aa322a5fad68d84a16847ccaf56118b9545243d1fe25595182000f965e4"
  },
  "kernelspec": {
   "display_name": "Python 3.9.10 64-bit",
   "language": "python",
   "name": "python3"
  },
  "language_info": {
   "codemirror_mode": {
    "name": "ipython",
    "version": 3
   },
   "file_extension": ".py",
   "mimetype": "text/x-python",
   "name": "python",
   "nbconvert_exporter": "python",
   "pygments_lexer": "ipython3",
   "version": "3.9.10"
  },
  "orig_nbformat": 4
 },
 "nbformat": 4,
 "nbformat_minor": 2
}
