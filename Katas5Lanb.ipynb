{
 "cells": [
  {
   "cell_type": "code",
   "execution_count": null,
   "metadata": {},
   "outputs": [],
   "source": []
  },
  {
   "cell_type": "markdown",
   "metadata": {},
   "source": [
    "Ejercicio 1. Utilizar operadores artimeticos"
   ]
  },
  {
   "cell_type": "code",
   "execution_count": null,
   "metadata": {},
   "outputs": [],
   "source": [
    "# Crear variables para almacenar las dos distancias\n",
    "# ¡Asegúrate de quitar las comas!\n",
    "\n",
    "\n",
    "\n",
    "distanciaTierra = 149597870\n",
    "distanciaJupiter = 778547200\n",
    "\n",
    "# Calcular la distancia entre planetas\n",
    "distanciaKm = distanciaTierra - distanciaJupiter\n",
    "print(distanciaKm)\n",
    "\n",
    "distanciaMillas = distanciaKm * 0.621\n",
    "print(round(distanciaMillas))  \n",
    "\n"
   ]
  },
  {
   "cell_type": "markdown",
   "metadata": {},
   "source": [
    "Ejercicio 2. Convierte cadenas en números y usa valores absolutos"
   ]
  },
  {
   "cell_type": "code",
   "execution_count": 7,
   "metadata": {},
   "outputs": [
    {
     "name": "stdout",
     "output_type": "stream",
     "text": [
      "-78300000\n",
      "48624300.0\n"
     ]
    }
   ],
   "source": [
    "#Almacenar las entradas de usuario\n",
    "PlantetaUnoCad = input (\" Introduza la distancia del Sol para el planeta uno en KM     \")\n",
    "PlanetaDosCad= input(\" Introduza la distancia del Sol para el planeta dos en KM    \")\n",
    "\n",
    "# Convierte las cadenas de ambos planetas a números enteros\n",
    "distPlanetaUno = int(PlantetaUnoCad)\n",
    "distPlanetaDos = int(PlanetaDosCad)\n",
    "\n",
    "#Realizar el calculo y determinar el valor absoluto\n",
    "distFinalKM = distPlanetaUno - distPlanetaDos\n",
    "print(distFinalKM)\n",
    "\n",
    "#Convertir a millas\n",
    "distanciaMi = distFinalKM * 0.621\n",
    "print(abs(distanciaMi))\n"
   ]
  }
 ],
 "metadata": {
  "interpreter": {
   "hash": "7b8b0aa322a5fad68d84a16847ccaf56118b9545243d1fe25595182000f965e4"
  },
  "kernelspec": {
   "display_name": "Python 3.9.10 64-bit",
   "language": "python",
   "name": "python3"
  },
  "language_info": {
   "codemirror_mode": {
    "name": "ipython",
    "version": 3
   },
   "file_extension": ".py",
   "mimetype": "text/x-python",
   "name": "python",
   "nbconvert_exporter": "python",
   "pygments_lexer": "ipython3",
   "version": "3.9.10"
  },
  "orig_nbformat": 4
 },
 "nbformat": 4,
 "nbformat_minor": 2
}
